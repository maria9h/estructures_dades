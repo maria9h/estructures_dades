{
  "metadata": {
    "language_info": {
      "codemirror_mode": {
        "name": "python",
        "version": 3
      },
      "file_extension": ".py",
      "mimetype": "text/x-python",
      "name": "python",
      "nbconvert_exporter": "python",
      "pygments_lexer": "ipython3",
      "version": "3.8"
    },
    "kernelspec": {
      "name": "python",
      "display_name": "Python (Pyodide)",
      "language": "python"
    }
  },
  "nbformat_minor": 4,
  "nbformat": 4,
  "cells": [
    {
      "cell_type": "markdown",
      "source": "# Tasca M2 T01",
      "metadata": {}
    },
    {
      "cell_type": "code",
      "source": "mes = 2\ntrimestre = 1\nmes_trimestre = trimestres[mes-1][trimestre-1]\nprint(mes2_trimestre1)",
      "metadata": {
        "trusted": true
      },
      "execution_count": 15,
      "outputs": [
        {
          "name": "stdout",
          "text": "febrer\n",
          "output_type": "stream"
        }
      ]
    },
    {
      "cell_type": "markdown",
      "source": "- Els mesos del primer trimestre.",
      "metadata": {}
    },
    {
      "cell_type": "code",
      "source": "trimeste = 1\nmesos_trimestre = trimestres[trimestre-1]\nprint(mesos_trimestre)",
      "metadata": {
        "trusted": true
      },
      "execution_count": 17,
      "outputs": [
        {
          "name": "stdout",
          "text": "['gener', 'febrer', 'març']\n",
          "output_type": "stream"
        }
      ]
    },
    {
      "cell_type": "markdown",
      "source": "- Setembre i octubre.",
      "metadata": {}
    },
    {
      "cell_type": "code",
      "source": "set = trimestres[2][2]\noct = trimestres[3][0]\nprint(set,\"i\", oct)",
      "metadata": {
        "trusted": true
      },
      "execution_count": 25,
      "outputs": [
        {
          "name": "stdout",
          "text": "setembre i octubre\n",
          "output_type": "stream"
        }
      ]
    },
    {
      "cell_type": "markdown",
      "source": "### Exercici 3\n\nCrea una llista amb nombres desordenats i respon a les següents preguntes:\n",
      "metadata": {}
    },
    {
      "cell_type": "code",
      "source": "import random\nnum_rand = []\nn = 10\nfor i in range(n):\n    num = random.randint(1,10)\n    num_rand.append(num)\n\nprint(num_rand)",
      "metadata": {
        "trusted": true
      },
      "execution_count": 64,
      "outputs": [
        {
          "name": "stdout",
          "text": "[9, 6, 4, 6, 4, 10, 5, 6, 1, 6]\n",
          "output_type": "stream"
        }
      ]
    },
    {
      "cell_type": "markdown",
      "source": "- Quants números hi ha?",
      "metadata": {}
    },
    {
      "cell_type": "code",
      "source": "len(num_rand)",
      "metadata": {
        "trusted": true
      },
      "execution_count": 65,
      "outputs": [
        {
          "execution_count": 65,
          "output_type": "execute_result",
          "data": {
            "text/plain": "10"
          },
          "metadata": {}
        }
      ]
    },
    {
      "cell_type": "markdown",
      "source": "- Quantes vegades apareix el número 3?",
      "metadata": {}
    },
    {
      "cell_type": "code",
      "source": "tres = num_rand.count(3)\nprint(\"El número 3 apareix\", tres, \"vegades\")",
      "metadata": {
        "trusted": true
      },
      "execution_count": 66,
      "outputs": [
        {
          "name": "stdout",
          "text": "El número 3 apareix 0 vegades\n",
          "output_type": "stream"
        }
      ]
    },
    {
      "cell_type": "markdown",
      "source": "- Quantes vegades apareixen els nombres 3 i 4?",
      "metadata": {}
    },
    {
      "cell_type": "code",
      "source": "tres = num_rand.count(3)\nquatre = num_rand.count(4)\nprint(tres, \"tresos i\", quatre, \"quatres\")",
      "metadata": {
        "trusted": true
      },
      "execution_count": 67,
      "outputs": [
        {
          "name": "stdout",
          "text": "0 tresos i 2 quatres\n",
          "output_type": "stream"
        }
      ]
    },
    {
      "cell_type": "markdown",
      "source": "- Quin és el número més gran?",
      "metadata": {}
    },
    {
      "cell_type": "code",
      "source": "max_num = max(num_rand)\nprint(\"El més gran és:\", max_num)",
      "metadata": {
        "trusted": true
      },
      "execution_count": 68,
      "outputs": [
        {
          "name": "stdout",
          "text": "El més gran és: 10\n",
          "output_type": "stream"
        }
      ]
    },
    {
      "cell_type": "markdown",
      "source": "- Quins són els 3 números més petits?",
      "metadata": {}
    },
    {
      "cell_type": "code",
      "source": "tres_petits = []\nllista = num_rand\n\nfor i in range (3):\n    min_num = min(llista)\n    tres_petits.append(min_num)\n    while min_num in llista:\n        llista.remove(min_num)\n\nprint(\"Els tres més petits són:\", tres_petits[:],'.')",
      "metadata": {
        "trusted": true
      },
      "execution_count": 69,
      "outputs": [
        {
          "name": "stdout",
          "text": "Els tres més petits són: [1, 4, 5] .\n",
          "output_type": "stream"
        }
      ]
    },
    {
      "cell_type": "markdown",
      "source": "- Quin és el rang d’aquesta llista?",
      "metadata": {}
    },
    {
      "cell_type": "code",
      "source": "rang = max(num_rand) - min(num_rand)\nprint(\"El rang es\", rang,\".\")",
      "metadata": {
        "trusted": true
      },
      "execution_count": 70,
      "outputs": [
        {
          "name": "stdout",
          "text": "El rang es 4 .\n",
          "output_type": "stream"
        }
      ]
    }
  ]
}
