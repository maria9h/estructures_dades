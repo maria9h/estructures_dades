{
  "metadata": {
    "language_info": {
      "codemirror_mode": {
        "name": "python",
        "version": 3
      },
      "file_extension": ".py",
      "mimetype": "text/x-python",
      "name": "python",
      "nbconvert_exporter": "python",
      "pygments_lexer": "ipython3",
      "version": "3.8"
    },
    "kernelspec": {
      "name": "python",
      "display_name": "Python (Pyodide)",
      "language": "python"
    }
  },
  "nbformat_minor": 4,
  "nbformat": 4,
  "cells": [
    {
      "cell_type": "markdown",
      "source": "# Tasca M2 T01",
      "metadata": {}
    },
    {
      "cell_type": "markdown",
      "source": "### Exercici 1\n\nCrea una llista que agrupi els mesos de l’any en trimestres (1T: gener, febrer i març; 2T: abril, maig, juny...), és a dir, una llista amb 4 llistes dins.",
      "metadata": {}
    },
    {
      "cell_type": "code",
      "source": "T1 = [\"gener\",\"febrer\",\"març\"]\nT2 = [\"abril\",\"maig\",\"juny\"]\nT3 = [\"juliol\",\"agost\",\"setembre\"]\nT4 = [\"octubre\",\"novembre\",\"desembre\"]\n\ntrimestres = [T1,T2,T3,T4]\nprint(trimestres)",
      "metadata": {
        "trusted": true
      },
      "execution_count": 3,
      "outputs": [
        {
          "name": "stdout",
          "text": "[['gener', 'febrer', 'març'], ['abril', 'maig', 'juny'], ['juliol', 'agost', 'setembre'], ['octubre', 'novembre', 'desembre']]\n",
          "output_type": "stream"
        }
      ]
    },
    {
      "cell_type": "markdown",
      "source": "### Exercici 2\n\nCrea un codi que et permeti accedir a:\n\n- El segon mes del primer trimestre.",
      "metadata": {
        "jp-MarkdownHeadingCollapsed": true,
        "tags": []
      }
    },
    {
      "cell_type": "code",
      "source": "mes = 2\ntrimestre = 1\nmes_trimestre = trimestres[mes-1][trimestre-1]\nprint(mes2_trimestre1)",
      "metadata": {
        "trusted": true
      },
      "execution_count": 15,
      "outputs": [
        {
          "name": "stdout",
          "text": "febrer\n",
          "output_type": "stream"
        }
      ]
    },
    {
      "cell_type": "markdown",
      "source": "- Els mesos del primer trimestre.",
      "metadata": {}
    },
    {
      "cell_type": "code",
      "source": "trimeste = 1\nmesos_trimestre = trimestres[trimestre-1]\nprint(mesos_trimestre)",
      "metadata": {
        "trusted": true
      },
      "execution_count": 17,
      "outputs": [
        {
          "name": "stdout",
          "text": "['gener', 'febrer', 'març']\n",
          "output_type": "stream"
        }
      ]
    },
    {
      "cell_type": "markdown",
      "source": "- Setembre i octubre.",
      "metadata": {}
    },
    {
      "cell_type": "code",
      "source": "set = trimestres[2][2]\noct = trimestres[3][0]\nprint(set,\"i\", oct)",
      "metadata": {
        "trusted": true
      },
      "execution_count": 25,
      "outputs": [
        {
          "name": "stdout",
          "text": "setembre i octubre\n",
          "output_type": "stream"
        }
      ]
    },
    {
      "cell_type": "markdown",
      "source": "### Exercici 3\n\nCrea una llista amb nombres desordenats i respon a les següents preguntes:\n",
      "metadata": {}
    },
    {
      "cell_type": "code",
      "source": "import random\nnum_rand = []\nn = 10\nfor i in range(n):\n    num = random.randint(1,10)\n    num_rand.append(num)\n\nprint(num_rand)",
      "metadata": {
        "trusted": true
      },
      "execution_count": 64,
      "outputs": [
        {
          "name": "stdout",
          "text": "[9, 6, 4, 6, 4, 10, 5, 6, 1, 6]\n",
          "output_type": "stream"
        }
      ]
    },
    {
      "cell_type": "markdown",
      "source": "- Quants números hi ha?",
      "metadata": {}
    },
    {
      "cell_type": "code",
      "source": "len(num_rand)",
      "metadata": {
        "trusted": true
      },
      "execution_count": 65,
      "outputs": [
        {
          "execution_count": 65,
          "output_type": "execute_result",
          "data": {
            "text/plain": "10"
          },
          "metadata": {}
        }
      ]
    },
    {
      "cell_type": "markdown",
      "source": "- Quantes vegades apareix el número 3?",
      "metadata": {}
    },
    {
      "cell_type": "code",
      "source": "tres = num_rand.count(3)\nprint(\"El número 3 apareix\", tres, \"vegades\")",
      "metadata": {
        "trusted": true
      },
      "execution_count": 66,
      "outputs": [
        {
          "name": "stdout",
          "text": "El número 3 apareix 0 vegades\n",
          "output_type": "stream"
        }
      ]
    },
    {
      "cell_type": "markdown",
      "source": "- Quantes vegades apareixen els nombres 3 i 4?",
      "metadata": {}
    },
    {
      "cell_type": "code",
      "source": "tres = num_rand.count(3)\nquatre = num_rand.count(4)\nprint(tres, \"tresos i\", quatre, \"quatres\")",
      "metadata": {
        "trusted": true
      },
      "execution_count": 67,
      "outputs": [
        {
          "name": "stdout",
          "text": "0 tresos i 2 quatres\n",
          "output_type": "stream"
        }
      ]
    },
    {
      "cell_type": "markdown",
      "source": "- Quin és el número més gran?",
      "metadata": {}
    },
    {
      "cell_type": "code",
      "source": "max_num = max(num_rand)\nprint(\"El més gran és:\", max_num)",
      "metadata": {
        "trusted": true
      },
      "execution_count": 68,
      "outputs": [
        {
          "name": "stdout",
          "text": "El més gran és: 10\n",
          "output_type": "stream"
        }
      ]
    },
    {
      "cell_type": "markdown",
      "source": "- Quins són els 3 números més petits?",
      "metadata": {}
    },
    {
      "cell_type": "code",
      "source": "tres_petits = []\nllista = num_rand\n\nfor i in range (3):\n    min_num = min(llista)\n    tres_petits.append(min_num)\n    while min_num in llista:\n        llista.remove(min_num)\n\nprint(\"Els tres més petits són:\", tres_petits[:],'.')",
      "metadata": {
        "trusted": true
      },
      "execution_count": 69,
      "outputs": [
        {
          "name": "stdout",
          "text": "Els tres més petits són: [1, 4, 5] .\n",
          "output_type": "stream"
        }
      ]
    },
    {
      "cell_type": "markdown",
      "source": "- Quin és el rang d’aquesta llista?",
      "metadata": {}
    },
    {
      "cell_type": "code",
      "source": "rang = max(num_rand) - min(num_rand)\nprint(\"El rang es\", rang,\".\")",
      "metadata": {
        "trusted": true
      },
      "execution_count": 70,
      "outputs": [
        {
          "name": "stdout",
          "text": "El rang es 4 .\n",
          "output_type": "stream"
        }
      ]
    },
    {
      "cell_type": "markdown",
      "source": "### Exercici 4\n\nCrea un diccionari de la següent forma i respon a les preguntes:\n\ncompra = { \"Pomes\" : {\"Qty\": 5, \"€\": 0.42}, \"Peres\" : {\"Qty\": 3, \"€\": 0.66} }",
      "metadata": {}
    },
    {
      "cell_type": "code",
      "source": "compra = { \n    \"Pomes\" : {\n        \"Qty\": 5, \n        \"€\": 0.42\n    }, \n    \"Peres\" : {\n        \"Qty\": 3, \n        \"€\": 0.66\n    }\n}\nprint(compra)",
      "metadata": {
        "trusted": true
      },
      "execution_count": 71,
      "outputs": [
        {
          "name": "stdout",
          "text": "{'Pomes': {'Qty': 5, '€': 0.42}, 'Peres': {'Qty': 3, '€': 0.66}}\n",
          "output_type": "stream"
        }
      ]
    },
    {
      "cell_type": "markdown",
      "source": "- Afegeix alguna fruita més",
      "metadata": {}
    },
    {
      "cell_type": "code",
      "source": "compra.update({\"Mango\": {\n                    \"Qty\": 2, \n                    \"€\": 2.69\n                    }\n              })\n\nprint(compra)",
      "metadata": {
        "trusted": true
      },
      "execution_count": 72,
      "outputs": [
        {
          "name": "stdout",
          "text": "{'Pomes': {'Qty': 5, '€': 0.42}, 'Peres': {'Qty': 3, '€': 0.66}, 'Mango': {'Qty': 2, '€': 2.69}}\n",
          "output_type": "stream"
        }
      ]
    },
    {
      "cell_type": "markdown",
      "source": "- Quant han costat les peres en total?",
      "metadata": {}
    },
    {
      "cell_type": "code",
      "source": "item = 'Peres'\nquantitat = compra[item]['Qty']\npreu = compra[item]['€']\ncost = quantitat*preu\nprint('En total han costat:',cost, '€.')",
      "metadata": {
        "trusted": true
      },
      "execution_count": 73,
      "outputs": [
        {
          "name": "stdout",
          "text": "En total han costat: 1.98 €.\n",
          "output_type": "stream"
        }
      ]
    },
    {
      "cell_type": "markdown",
      "source": "- Quantes fruites hem comprat en total?",
      "metadata": {}
    },
    {
      "cell_type": "code",
      "source": "fruites = compra.keys()\ntotal = 0\n\nfor i in fruites:\n    total = total + compra[i]['Qty']\n\nprint('Hem comprat', total,'fruites en total','.')",
      "metadata": {
        "trusted": true
      },
      "execution_count": 74,
      "outputs": [
        {
          "name": "stdout",
          "text": "Hem comprat 10 fruites en total .\n",
          "output_type": "stream"
        }
      ]
    },
    {
      "cell_type": "markdown",
      "source": "- Quina és la fruita més cara?",
      "metadata": {}
    },
    {
      "cell_type": "code",
      "source": "fmax = max(fruites)\nprint('La fruita més cara és:', fmax, '.')",
      "metadata": {
        "trusted": true
      },
      "execution_count": 75,
      "outputs": [
        {
          "name": "stdout",
          "text": "La fruita més cara és: Pomes .\n",
          "output_type": "stream"
        }
      ]
    }
  ]
}
