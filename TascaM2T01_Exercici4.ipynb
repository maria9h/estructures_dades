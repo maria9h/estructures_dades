{
  "metadata": {
    "language_info": {
      "codemirror_mode": {
        "name": "python",
        "version": 3
      },
      "file_extension": ".py",
      "mimetype": "text/x-python",
      "name": "python",
      "nbconvert_exporter": "python",
      "pygments_lexer": "ipython3",
      "version": "3.8"
    },
    "kernelspec": {
      "name": "python",
      "display_name": "Python (Pyodide)",
      "language": "python"
    }
  },
  "nbformat_minor": 4,
  "nbformat": 4,
  "cells": [
    {
      "cell_type": "markdown",
      "source": "# Tasca M2 T01",
      "metadata": {}
    },
    {
      "cell_type": "markdown",
      "source": "### Exercici 4\n\nCrea un diccionari de la següent forma i respon a les preguntes:\n\ncompra = { \"Pomes\" : {\"Qty\": 5, \"€\": 0.42}, \"Peres\" : {\"Qty\": 3, \"€\": 0.66} }",
      "metadata": {}
    },
    {
      "cell_type": "code",
      "source": "compra = { \n    \"Pomes\" : {\n        \"Qty\": 5, \n        \"€\": 0.42\n    }, \n    \"Peres\" : {\n        \"Qty\": 3, \n        \"€\": 0.66\n    }\n}\nprint(compra)",
      "metadata": {},
      "execution_count": null,
      "outputs": [
        {
          "name": "stdout",
          "text": "{'Pomes': {'Qty': 5, '€': 0.42}, 'Peres': {'Qty': 3, '€': 0.66}}\n",
          "output_type": "stream"
        }
      ]
    },
    {
      "cell_type": "markdown",
      "source": "- Afegeix alguna fruita més",
      "metadata": {}
    },
    {
      "cell_type": "code",
      "source": "compra.update({\"Mango\": {\n                    \"Qty\": 2, \n                    \"€\": 2.69\n                    }\n              })\n\nprint(compra)",
      "metadata": {},
      "execution_count": null,
      "outputs": [
        {
          "name": "stdout",
          "text": "{'Pomes': {'Qty': 5, '€': 0.42}, 'Peres': {'Qty': 3, '€': 0.66}, 'Mango': {'Qty': 2, '€': 2.69}}\n",
          "output_type": "stream"
        }
      ]
    },
    {
      "cell_type": "markdown",
      "source": "- Quant han costat les peres en total?",
      "metadata": {}
    },
    {
      "cell_type": "code",
      "source": "item = 'Peres'\nquantitat = compra[item]['Qty']\npreu = compra[item]['€']\ncost = quantitat*preu\nprint('En total han costat:',cost, '€.')",
      "metadata": {},
      "execution_count": null,
      "outputs": [
        {
          "name": "stdout",
          "text": "En total han costat: 1.98 €.\n",
          "output_type": "stream"
        }
      ]
    },
    {
      "cell_type": "markdown",
      "source": "- Quantes fruites hem comprat en total?",
      "metadata": {}
    },
    {
      "cell_type": "code",
      "source": "fruites = compra.keys()\ntotal = 0\n\nfor i in fruites:\n    total = total + compra[i]['Qty']\n\nprint('Hem comprat', total,'fruites en total','.')",
      "metadata": {},
      "execution_count": null,
      "outputs": [
        {
          "name": "stdout",
          "text": "Hem comprat 10 fruites en total .\n",
          "output_type": "stream"
        }
      ]
    },
    {
      "cell_type": "markdown",
      "source": "- Quina és la fruita més cara?",
      "metadata": {}
    },
    {
      "cell_type": "code",
      "source": "fmax = max(fruites)\nprint('La fruita més cara és:', fmax, '.')",
      "metadata": {},
      "execution_count": null,
      "outputs": [
        {
          "name": "stdout",
          "text": "La fruita més cara és: Pomes .\n",
          "output_type": "stream"
        }
      ]
    }
  ]
}
