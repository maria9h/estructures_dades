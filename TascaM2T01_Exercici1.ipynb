{
  "metadata": {
    "language_info": {
      "codemirror_mode": {
        "name": "python",
        "version": 3
      },
      "file_extension": ".py",
      "mimetype": "text/x-python",
      "name": "python",
      "nbconvert_exporter": "python",
      "pygments_lexer": "ipython3",
      "version": "3.8"
    },
    "kernelspec": {
      "name": "python",
      "display_name": "Python (Pyodide)",
      "language": "python"
    }
  },
  "nbformat_minor": 4,
  "nbformat": 4,
  "cells": [
    {
      "cell_type": "markdown",
      "source": "# Tasca M2 T01",
      "metadata": {}
    },
    {
      "cell_type": "markdown",
      "source": "### Exercici 1\n\nCrea una llista que agrupi els mesos de l’any en trimestres (1T: gener, febrer i març; 2T: abril, maig, juny...), és a dir, una llista amb 4 llistes dins.",
      "metadata": {}
    },
    {
      "cell_type": "code",
      "source": "T1 = [\"gener\",\"febrer\",\"març\"]\nT2 = [\"abril\",\"maig\",\"juny\"]\nT3 = [\"juliol\",\"agost\",\"setembre\"]\nT4 = [\"octubre\",\"novembre\",\"desembre\"]\n\ntrimestres = [T1,T2,T3,T4]\nprint(trimestres)",
      "metadata": {
        "trusted": true
      },
      "execution_count": 3,
      "outputs": [
        {
          "name": "stdout",
          "text": "[['gener', 'febrer', 'març'], ['abril', 'maig', 'juny'], ['juliol', 'agost', 'setembre'], ['octubre', 'novembre', 'desembre']]\n",
          "output_type": "stream"
        }
      ]
    },
    {
      "cell_type": "code",
      "source": "mes = 2\ntrimestre = 1\nmes_trimestre = trimestres[mes-1][trimestre-1]\nprint(mes2_trimestre1)",
      "metadata": {
        "trusted": true
      },
      "execution_count": 15,
      "outputs": [
        {
          "name": "stdout",
          "text": "febrer\n",
          "output_type": "stream"
        }
      ]
    },
    {
      "cell_type": "markdown",
      "source": "- Els mesos del primer trimestre.",
      "metadata": {}
    },
    {
      "cell_type": "code",
      "source": "trimeste = 1\nmesos_trimestre = trimestres[trimestre-1]\nprint(mesos_trimestre)",
      "metadata": {
        "trusted": true
      },
      "execution_count": 17,
      "outputs": [
        {
          "name": "stdout",
          "text": "['gener', 'febrer', 'març']\n",
          "output_type": "stream"
        }
      ]
    },
    {
      "cell_type": "markdown",
      "source": "- Setembre i octubre.",
      "metadata": {}
    },
    {
      "cell_type": "code",
      "source": "set = trimestres[2][2]\noct = trimestres[3][0]\nprint(set,\"i\", oct)",
      "metadata": {
        "trusted": true
      },
      "execution_count": 25,
      "outputs": [
        {
          "name": "stdout",
          "text": "setembre i octubre\n",
          "output_type": "stream"
        }
      ]
    }
  ]
}
